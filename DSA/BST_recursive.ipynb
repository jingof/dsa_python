{
 "cells": [
  {
   "cell_type": "code",
   "execution_count": null,
   "metadata": {},
   "outputs": [],
   "source": [
    "class Node:\n",
    "    def __init__(self, value):\n",
    "        self.value = value\n",
    "        self.left  = None\n",
    "        self.right = None\n",
    "\n",
    "class BinarySearchTree:\n",
    "    def __init__(self):\n",
    "        self.root = None\n",
    "    \n",
    "    def __r_insert(self, current_node, value):\n",
    "        if current_node == None:\n",
    "            return Node(value)\n",
    "        if value < current_node.value:\n",
    "            current_node.left = self.__r_insert(current_node.left,value)\n",
    "        if value > current_node.value:\n",
    "            current_node.right = self.__r_insert(current_node.right,value)\n",
    "        return current_node\n",
    "    \n",
    "    def r_insert(self, value):\n",
    "        if self.root == None:\n",
    "            self.root = Node(value)\n",
    "        else:\n",
    "            self.__r_insert(self.root, value)\n",
    "    \n",
    "    def r_contains(self, value):\n",
    "        return self.__r_contains(self.root, value)\n",
    "\n",
    "    def __r_contains(self, curr_node, value):\n",
    "        if curr_node == None or curr_node.value==None:\n",
    "            return False\n",
    "        elif curr_node.value == value:\n",
    "            return True\n",
    "        elif value < curr_node.value:\n",
    "            return self.__r_contains(curr_node.left, value)\n",
    "        elif value > curr_node.value:\n",
    "            return self.__r_contains(curr_node.right, value)\n",
    "\n",
    "    def invert(self):\n",
    "        self.root = self.__invert_tree(self.root)\n",
    "    \n",
    "    def __invert_tree(self, current_node):\n",
    "        if current_node == None:\n",
    "            return\n",
    "        left = current_node.left\n",
    "        current_node.left = current_node.right\n",
    "        current_node.right = left\n",
    "        current_node.left = self.__invert_tree(current_node.left)\n",
    "        current_node.right = self.__invert_tree(current_node.right)\n",
    "        return current_node\n",
    "\n",
    "    def min_value(self, current_node):\n",
    "        while current_node.left is not None:\n",
    "            current_node = current_node.left\n",
    "        return current_node.value\n",
    "\n",
    "    def delete_node(self, value):\n",
    "        self.root = self.__delete_node(self.root, value)\n",
    "\n",
    "    def __delete_node(self, current_node, value):\n",
    "        if current_node == None:\n",
    "            return None\n",
    "        elif value < current_node.value:\n",
    "            current_node.left = self.__delete_node(current_node.left, value)\n",
    "        elif value > current_node.value:\n",
    "            current_node.right = self.__delete_node(current_node.right, value)  \n",
    "        else:\n",
    "            if current_node.left == None and current_node.right == None:\n",
    "                return None\n",
    "            elif current_node.left == None:\n",
    "                current_node = current_node.right\n",
    "            elif current_node.right == None:\n",
    "                current_node = current_node.left\n",
    "            else:\n",
    "                sub_tree_min = self.min_value(current_node.right)\n",
    "                current_node.value = sub_tree_min\n",
    "                current_node.right = self.__delete_node(current_node.right, sub_tree_min)\n",
    "        return current_node\n",
    "\n",
    "    def sorted_list_to_bst(self, nums):\n",
    "        self.root = self.__sorted_list_to_bst(nums, 0, len(nums) - 1)\n",
    "\n",
    "    def __sorted_list_to_bst(self, nums, left, right):\n",
    "        if left > right:\n",
    "            return None\n",
    "        def get_mid_ind(left, right):\n",
    "            return (left + right) // 2\n",
    "        mid_ind = get_mid_ind(left, right)\n",
    "        current = Node(nums[mid_ind])\n",
    "        current.left = self.__sorted_list_to_bst(nums, left, mid_ind-1)\n",
    "        current.right = self.__sorted_list_to_bst(nums, mid_ind+1, right)\n",
    "        return current\n",
    "    \n",
    "    def print_inorder(self, node):\n",
    "        print(node.value, end = ' ')\n",
    "        if node.left:\n",
    "            self.print_inorder(node.left)\n",
    "        if node.right:\n",
    "            self.print_inorder(node.right)\n",
    "\n",
    "    def print_preorder(self, node):\n",
    "        if node.left:\n",
    "            self.print_inorder(node.left)\n",
    "        if node.right:\n",
    "            self.print_inorder(node.right)\n",
    "        print(node.value, end = ' ')\n",
    "    \n",
    "    def print_postorder(self, node):\n",
    "        if node.left:\n",
    "            self.print_inorder(node.left)\n",
    "        print(node.value, end = ' ')\n",
    "        if node.right:\n",
    "            self.print_inorder(node.right)\n",
    "    \n",
    "    def print_tree(self):\n",
    "        print(\"In-order: \", end = '')\n",
    "        self.print_inorder(self.root)\n",
    "        print()\n",
    "        print(\"Pre-order: \", end = '')\n",
    "        self.print_preorder(self.root)\n",
    "        print()\n",
    "        print(\"Post-order: \", end = '')\n",
    "        self.print_postorder(self.root)\n",
    "        print()"
   ]
  },
  {
   "cell_type": "code",
   "execution_count": 26,
   "metadata": {},
   "outputs": [
    {
     "name": "stdout",
     "output_type": "stream",
     "text": [
      "In-order: 8 3 4 6 10 21 56 43 \n",
      "Pre-order: 3 4 6 10 21 56 43 8 \n",
      "Post-order: 3 4 6 8 10 21 56 43 \n"
     ]
    }
   ],
   "source": [
    "lista = [8,10,3,21,4,56,43,6]\n",
    "\n",
    "BST = BinarySearchTree()\n",
    "for i in lista:\n",
    "    BST.r_insert(i)\n",
    "\n",
    "BST.print_tree()"
   ]
  },
  {
   "cell_type": "code",
   "execution_count": 27,
   "metadata": {},
   "outputs": [
    {
     "name": "stdout",
     "output_type": "stream",
     "text": [
      "BST Contains 27:\n",
      "True\n",
      "\n",
      "BST Contains 17:\n",
      "False\n"
     ]
    }
   ],
   "source": [
    "my_tree = BinarySearchTree()\n",
    "my_tree.r_insert(47)\n",
    "my_tree.r_insert(21)\n",
    "my_tree.r_insert(76)\n",
    "my_tree.r_insert(18)\n",
    "my_tree.r_insert(27)\n",
    "my_tree.r_insert(52)\n",
    "my_tree.r_insert(82)\n",
    "\n",
    "print('BST Contains 27:')\n",
    "print(my_tree.r_contains(27))\n",
    "\n",
    "print('\\nBST Contains 17:')\n",
    "print(my_tree.r_contains(17))\n",
    "                "
   ]
  },
  {
   "cell_type": "code",
   "execution_count": 28,
   "metadata": {},
   "outputs": [
    {
     "name": "stdout",
     "output_type": "stream",
     "text": [
      "In-order: 3 1 21 4 6 56 43 \n",
      "Pre-order: 1 21 4 6 56 43 3 \n",
      "Post-order: 1 3 21 4 6 56 43 \n"
     ]
    }
   ],
   "source": [
    "lista = [2,1,3,21,4,56,43,6]\n",
    "BST = BinarySearchTree()\n",
    "for i in lista:\n",
    "    BST.r_insert(i)\n",
    "BST.delete_node(2)\n",
    "BST.print_tree()"
   ]
  },
  {
   "cell_type": "code",
   "execution_count": null,
   "metadata": {},
   "outputs": [],
   "source": []
  }
 ],
 "metadata": {
  "kernelspec": {
   "display_name": "Python 3",
   "language": "python",
   "name": "python3"
  },
  "language_info": {
   "codemirror_mode": {
    "name": "ipython",
    "version": 3
   },
   "file_extension": ".py",
   "mimetype": "text/x-python",
   "name": "python",
   "nbconvert_exporter": "python",
   "pygments_lexer": "ipython3",
   "version": "3.9.6"
  }
 },
 "nbformat": 4,
 "nbformat_minor": 2
}
