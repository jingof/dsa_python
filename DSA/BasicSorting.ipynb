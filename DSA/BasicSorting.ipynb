{
 "cells": [
  {
   "cell_type": "markdown",
   "id": "aa032423",
   "metadata": {
    "cellUniqueIdByVincent": "f6a14"
   },
   "source": [
    "# bubble sort"
   ]
  },
  {
   "cell_type": "code",
   "execution_count": 2,
   "id": "3dc31f0f",
   "metadata": {
    "cellUniqueIdByVincent": "75976"
   },
   "outputs": [
    {
     "data": {
      "text/plain": [
       "[4, 8, 14, 15, 19, 22, 54]"
      ]
     },
     "execution_count": 2,
     "metadata": {},
     "output_type": "execute_result"
    }
   ],
   "source": [
    "def bubble_sort(lista):\n",
    "    lenn = len(lista)\n",
    "    for i in range(lenn-1):\n",
    "        for j in range(i+1, lenn):\n",
    "            if lista[i] > lista[j]:\n",
    "                temp = lista[i]\n",
    "                lista[i] = lista[j]\n",
    "                lista[j] = temp\n",
    "  \n",
    "list1 = [22, 15, 4, 8, 19, 54, 14]\n",
    "bubble_sort(list1)\n",
    "list1"
   ]
  },
  {
   "cell_type": "markdown",
   "id": "a69bb906",
   "metadata": {
    "cellUniqueIdByVincent": "01832"
   },
   "source": [
    "# selection sort"
   ]
  },
  {
   "cell_type": "code",
   "execution_count": 3,
   "id": "885b6ea7",
   "metadata": {
    "cellUniqueIdByVincent": "6e0a7"
   },
   "outputs": [
    {
     "data": {
      "text/plain": [
       "[4, 8, 9, 14, 15, 19, 22, 54]"
      ]
     },
     "execution_count": 3,
     "metadata": {},
     "output_type": "execute_result"
    }
   ],
   "source": [
    "def selection_sort(lista):\n",
    "    lenn = len(lista)\n",
    "    for i in range(lenn-1):\n",
    "        min_ind = i\n",
    "        for j in range(i+1, lenn):\n",
    "            if lista[j] < lista[min_ind]:\n",
    "                min_ind = j\n",
    "        if i != min_ind:\n",
    "            temp = lista[i]\n",
    "            lista[i] = lista[min_ind]\n",
    "            lista[min_ind] = temp\n",
    "    # return lista\n",
    "list2 = [22, 15, 4, 8, 19, 54, 14, 9]\n",
    "selection_sort(list2)\n",
    "list2\n",
    "\n",
    "\n"
   ]
  },
  {
   "cell_type": "markdown",
   "id": "8c31a52d",
   "metadata": {
    "cellUniqueIdByVincent": "8394e"
   },
   "source": [
    "# insertion sort"
   ]
  },
  {
   "cell_type": "code",
   "execution_count": 4,
   "id": "afe0f2bf",
   "metadata": {
    "cellUniqueIdByVincent": "aa145"
   },
   "outputs": [
    {
     "data": {
      "text/plain": [
       "[4, 7, 8, 9, 14, 15, 19, 22, 54]"
      ]
     },
     "execution_count": 4,
     "metadata": {},
     "output_type": "execute_result"
    }
   ],
   "source": [
    "def insertion_sort(lista):\n",
    "    lenn = len(lista)\n",
    "    for i in range(1, lenn):\n",
    "        temp = lista[i]\n",
    "        j = i-1\n",
    "        while temp < lista[j] and j > -1:\n",
    "            lista[j + 1] = lista[j]\n",
    "            lista[j] = temp\n",
    "            j -= 1\n",
    "        \n",
    "list2 = [22, 15, 4, 8, 19, 54, 14, 9, 7]\n",
    "insertion_sort(list2)\n",
    "list2\n"
   ]
  },
  {
   "cell_type": "code",
   "execution_count": 5,
   "id": "c8aedab6",
   "metadata": {
    "cellUniqueIdByVincent": "fe1cf"
   },
   "outputs": [
    {
     "name": "stdout",
     "output_type": "stream",
     "text": [
      "[4, 7, 100, 8, 9, 14, 15, 19, 22, 54]\n",
      "[4, 7, 8, 9, 14, 15, 19, 22, 54, 100]\n"
     ]
    }
   ],
   "source": [
    "list2.insert(2, 100)\n",
    "print(list2)\n",
    "insertion_sort(list2)\n",
    "print(list2)"
   ]
  },
  {
   "cell_type": "code",
   "execution_count": 6,
   "id": "a6574735",
   "metadata": {},
   "outputs": [
    {
     "name": "stdout",
     "output_type": "stream",
     "text": [
      "[1, 2, 3, 4, 5, 6, 7, 8]\n"
     ]
    }
   ],
   "source": [
    "def merge(list1, list2):\n",
    "    combined = []\n",
    "    i = 0\n",
    "    j = 0\n",
    "    while i < len(list1) and j < len(list2):\n",
    "        if list1[i] < list2[j]:\n",
    "            combined.append(list1[i])\n",
    "            i += 1\n",
    "        else:\n",
    "            combined.append(list2[j])\n",
    "            j += 1\n",
    "    while  i < len(list1):\n",
    "        combined.append(list1[i])\n",
    "        i += 1\n",
    "    while j < len(list2):\n",
    "        combined.append(list2[j])\n",
    "        j+=1\n",
    "    return combined\n",
    "\n",
    "def merge_sort(my_list):\n",
    "    if len(my_list) == 1:\n",
    "        return my_list\n",
    "    mid_index = int(len(my_list)/2)\n",
    "    left = merge_sort(my_list[:mid_index])\n",
    "    right = merge_sort(my_list[mid_index:])\n",
    "    return merge(left, right)\n",
    "\n",
    "\n",
    "print(merge_sort([5,7,8,2,3,6,1,4]))"
   ]
  },
  {
   "cell_type": "code",
   "execution_count": 11,
   "id": "e1cc2347",
   "metadata": {},
   "outputs": [
    {
     "name": "stdout",
     "output_type": "stream",
     "text": [
      "3 2 1 4 8 9 5 \n",
      "1 2 3 4 5 8 9 \n"
     ]
    }
   ],
   "source": [
    "class Node:\n",
    "    def __init__(self, value):\n",
    "        self.value = value\n",
    "        self.next = None\n",
    "\n",
    "class LinkedList:\n",
    "    def __init__(self, value):\n",
    "        new_node = Node(value)\n",
    "        self.head = new_node\n",
    "        self.tail = new_node\n",
    "        self.length = 1\n",
    "    \n",
    "    def append(self, value):\n",
    "        new_node = Node(value)\n",
    "        if self.head is None:\n",
    "            self.head = new_node\n",
    "            self.tail = new_node\n",
    "        else:\n",
    "            tail = self.tail\n",
    "            tail.next = new_node\n",
    "            self.tail = new_node\n",
    "        self.length += 1\n",
    "\n",
    "    def bubble_sort(self):\n",
    "        def get_child_at_index(ind):\n",
    "            temp = self.head\n",
    "            for i in range(ind):\n",
    "                temp = temp.next\n",
    "            return temp  \n",
    "        for i in range(self.length-1):\n",
    "            temp1 = get_child_at_index(i)\n",
    "            for j in range(i+1, self.length):\n",
    "                temp2 = get_child_at_index(j)\n",
    "                if temp1.value > temp2.value:\n",
    "                    temp = temp1.value\n",
    "                    temp1.value = temp2.value\n",
    "                    temp2.value = temp\n",
    "    \n",
    "    def selection_sort(self):\n",
    "        def get_child_at_index(ind):\n",
    "            temp = self.head\n",
    "            for i in range(ind):\n",
    "                temp = temp.next\n",
    "            return temp\n",
    "            \n",
    "        for i in range(self.length-1):\n",
    "            min_ind = i\n",
    "            temp1 = get_child_at_index(i)\n",
    "            for j in range(i+1, self.length):\n",
    "                temp2 = get_child_at_index(j)\n",
    "                if temp1.value > temp2.value:\n",
    "                    min_ind = j\n",
    "            if i != min_ind:\n",
    "                temp2 = get_child_at_index(min_ind)\n",
    "                temp = temp1.value\n",
    "                temp1.value = temp2.value\n",
    "                temp2.value = temp\n",
    "        \n",
    "    def merge(self, other_list):\n",
    "        def get_child_at_index(head_node, ind):\n",
    "            temp = head_node\n",
    "            for i in range(ind):\n",
    "                temp = temp.next\n",
    "            return temp\n",
    "        dummy = Node(0)\n",
    "        current = dummy\n",
    "        i = 0\n",
    "        j = 0\n",
    "        while i < self.length and j < other_list.length:\n",
    "            temp1 = get_child_at_index(self.head, i)\n",
    "            temp2 = get_child_at_index(other_list.head, j)\n",
    "            if temp1.value < temp2.value:\n",
    "                current.next = Node(temp1.value)\n",
    "                current = current.next\n",
    "                i += 1\n",
    "            else:\n",
    "                current.next = Node(temp2.value)\n",
    "                current = current.next\n",
    "                j += 1\n",
    "        if i < self.length:\n",
    "            current.next = get_child_at_index(self.head, i)\n",
    "            current = current.next\n",
    "          \n",
    "        if j < other_list.length:\n",
    "            current.next = get_child_at_index(other_list.head, j)\n",
    "            current = current.next\n",
    "              \n",
    "        self.head = dummy.next\n",
    "        self.length += other_list.length\n",
    "\n",
    "    def print_list(self):\n",
    "        temp = self.head\n",
    "        while temp:\n",
    "            print(temp.value, end = ' ')\n",
    "            temp = temp.next\n",
    "        print()\n",
    "ll = LinkedList(3)\n",
    "for i in [2, 1, 4, 8, 9, 5]:\n",
    "    ll.append(i)\n",
    "\n",
    "ll.print_list()\n",
    "ll.selection_sort()\n",
    "ll.print_list()"
   ]
  },
  {
   "cell_type": "code",
   "execution_count": 12,
   "id": "97f5a3db",
   "metadata": {},
   "outputs": [
    {
     "name": "stdout",
     "output_type": "stream",
     "text": [
      "11 22 6 7 \n",
      "3 2 1 4 8 9 5 11 22 6 7 \n"
     ]
    }
   ],
   "source": [
    "ll = LinkedList(3)\n",
    "for i in [2, 1, 4, 8, 9, 5]:\n",
    "    ll.append(i)\n",
    "    \n",
    "ll2 = LinkedList(11)\n",
    "for i in [22,6, 7]:\n",
    "    ll2.append(i)\n",
    "ll2.print_list()\n",
    "ll.merge(ll2)\n",
    "ll.print_list()\n"
   ]
  },
  {
   "cell_type": "code",
   "execution_count": 13,
   "id": "355a2697",
   "metadata": {},
   "outputs": [
    {
     "data": {
      "text/plain": [
       "[4, 7, 8, 9, 14, 15, 18, 19, 22, 54]"
      ]
     },
     "execution_count": 13,
     "metadata": {},
     "output_type": "execute_result"
    }
   ],
   "source": [
    "lista2 = [18, 22, 15, 4, 8, 19, 54, 14, 9, 7]\n",
    "selection_sort(lista2)\n",
    "lista2"
   ]
  },
  {
   "cell_type": "code",
   "execution_count": 14,
   "id": "8bdd284c",
   "metadata": {},
   "outputs": [
    {
     "name": "stdout",
     "output_type": "stream",
     "text": [
      "1 3 5 7 \n",
      "2 4 6 8 \n",
      "1 2 3 4 5 6 7 8 \n"
     ]
    }
   ],
   "source": [
    "l1 = LinkedList(1)\n",
    "for i in [3,5,7]:\n",
    "    l1.append(i)\n",
    "\n",
    "l2 = LinkedList(2)\n",
    "for i in [4,6,8]:\n",
    "    l2.append(i)\n",
    "\n",
    "l1.print_list()\n",
    "l2.print_list()\n",
    "l1.merge(l2)\n",
    "\n",
    "l1.print_list()"
   ]
  },
  {
   "cell_type": "markdown",
   "id": "9bde2620",
   "metadata": {},
   "source": [
    "# Merge Sort"
   ]
  },
  {
   "cell_type": "code",
   "execution_count": 15,
   "id": "7958d670",
   "metadata": {},
   "outputs": [
    {
     "name": "stdout",
     "output_type": "stream",
     "text": [
      "[1, 2, 3, 4, 5, 6, 7, 8]\n"
     ]
    }
   ],
   "source": [
    "def merge(list1, list2):\n",
    "    combined = []\n",
    "    i = 0\n",
    "    j = 0\n",
    "    while i < len(list1) and j < len(list2):\n",
    "        if list1[i] < list2[j]:\n",
    "            combined.append(list1[i])\n",
    "            i += 1\n",
    "        else:\n",
    "            combined.append(list2[j])\n",
    "            j += 1\n",
    "    while  i < len(list1):\n",
    "        combined.append(list1[i])\n",
    "        i += 1\n",
    "    while j < len(list2):\n",
    "        combined.append(list2[j])\n",
    "        j+=1\n",
    "    return combined\n",
    "\n",
    "def merge_sort(my_list):\n",
    "    if len(my_list) == 1:\n",
    "        return my_list\n",
    "    mid_index = int(len(my_list)/2)\n",
    "    left = merge_sort(my_list[:mid_index])\n",
    "    right = merge_sort(my_list[mid_index:])\n",
    "    return merge(left, right)\n",
    "\n",
    "\n",
    "print(merge_sort([5,7,8,2,3,6,1,4]))"
   ]
  },
  {
   "cell_type": "markdown",
   "id": "e9e6156f",
   "metadata": {},
   "source": [
    "# Quick Sort"
   ]
  },
  {
   "cell_type": "code",
   "execution_count": 16,
   "id": "63c20ca3",
   "metadata": {},
   "outputs": [
    {
     "name": "stdout",
     "output_type": "stream",
     "text": [
      "[5, 6, 3, 7, 1, 2, 4]\n",
      "[1, 2, 3, 4, 5, 6, 7]\n"
     ]
    }
   ],
   "source": [
    "def swap(my_list, index1, index2):\n",
    "    temp = my_list[index1]\n",
    "    my_list[index1] = my_list[index2]\n",
    "    my_list[index2] = temp\n",
    "\n",
    "def pivot(my_list, pivot_index, end_index):\n",
    "    swap_index = pivot_index\n",
    "\n",
    "    for i in range(pivot_index+1, end_index+1):\n",
    "        if my_list[i] < my_list[pivot_index]:\n",
    "            swap_index += 1\n",
    "            swap(my_list, swap_index, i)\n",
    "    swap(my_list, pivot_index, swap_index)\n",
    "    return swap_index\n",
    "\n",
    "def quick_sort_helper(my_list, left, right):\n",
    "    if left < right:\n",
    "        pivot_index = pivot(my_list, left, right)\n",
    "        quick_sort_helper(my_list, left, pivot_index-1)\n",
    "        quick_sort_helper(my_list, pivot_index+1, right)\n",
    "    return my_list\n",
    "    \n",
    "def quick_sort(my_list):\n",
    "    return quick_sort_helper(my_list, 0, len(my_list)-1)\n",
    "\n",
    "\n",
    "my_list = [5,6,3,7,1,2,4]\n",
    "\n",
    "print(my_list)\n",
    "quick_sort(my_list)\n",
    "print(my_list)"
   ]
  }
 ],
 "metadata": {
  "kernelspec": {
   "display_name": "Python 3",
   "language": "python",
   "name": "python3"
  },
  "language_info": {
   "codemirror_mode": {
    "name": "ipython",
    "version": 3
   },
   "file_extension": ".py",
   "mimetype": "text/x-python",
   "name": "python",
   "nbconvert_exporter": "python",
   "pygments_lexer": "ipython3",
   "version": "3.9.6"
  },
  "vincent": {
   "sessionId": "4a6da5f66074c7e02a21dd03_2025-06-04T23-15-18-706Z"
  }
 },
 "nbformat": 4,
 "nbformat_minor": 5
}
