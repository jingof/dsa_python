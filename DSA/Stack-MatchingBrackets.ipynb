{
 "cells": [
  {
   "cell_type": "markdown",
   "metadata": {},
   "source": [
    "## Stack with a List\n",
    "#### First In, Last Out\n",
    "#### Last In, First out"
   ]
  },
  {
   "cell_type": "markdown",
   "metadata": {},
   "source": [
    "## Using a stack to solve the problem of checking brackets\n",
    "- `((()))`\n",
    "- `(()())()`\n",
    "- `)()`\n",
    "- etc"
   ]
  },
  {
   "cell_type": "code",
   "execution_count": 6,
   "metadata": {},
   "outputs": [],
   "source": [
    "class Stack:\n",
    "    def __init__(self):\n",
    "        self.stack_list = []\n",
    "    \n",
    "    def print_stack(self):\n",
    "        for i in range(len(self.stack_list)-1 , -1, -1):\n",
    "            print(self.stack_list[i], end = ' ')\n",
    "        print()\n",
    "    \n",
    "    def is_empty(self):\n",
    "        return len(self.stack_list) == 0\n",
    "    \n",
    "    def peek(self):\n",
    "        if self.is_empty():\n",
    "            return None\n",
    "        else:\n",
    "            return self.stack_list[-1]\n",
    "    \n",
    "    def size(self):\n",
    "        return len(self.stack_list)\n",
    "    \n",
    "    def push(self, value):\n",
    "        self.stack_list.append(value)\n",
    "    \n",
    "    def pop(self):\n",
    "        if self.is_empty():\n",
    "            return None\n",
    "        else:\n",
    "            return self.stack_list.pop()"
   ]
  },
  {
   "cell_type": "code",
   "execution_count": 20,
   "metadata": {},
   "outputs": [
    {
     "name": "stdout",
     "output_type": "stream",
     "text": [
      "9 2 7 6 3 1 10 4 \n"
     ]
    }
   ],
   "source": [
    "lista = [4, 10, 1, 3, 6, 7, 2, 9, 11]\n",
    "STK = Stack()\n",
    "for i in lista:\n",
    "    STK.push(i)\n",
    "STK.pop()\n",
    "STK.print_stack()"
   ]
  },
  {
   "cell_type": "code",
   "execution_count": 43,
   "metadata": {},
   "outputs": [],
   "source": [
    "def is_balanced_parentheses(s):\n",
    "    my_stack = Stack()\n",
    "    for i in s:\n",
    "        if i == '(':\n",
    "            my_stack.push(1)\n",
    "        elif i == ')' and my_stack.is_empty():\n",
    "            return False\n",
    "        elif i == ')':\n",
    "            my_stack.pop()\n",
    "    if my_stack.size() == 0:\n",
    "        return True\n",
    "    my_stack.print_stack()\n",
    "    return False"
   ]
  },
  {
   "cell_type": "code",
   "execution_count": 44,
   "metadata": {},
   "outputs": [
    {
     "name": "stdout",
     "output_type": "stream",
     "text": [
      "((()))  ::  True\n",
      "(()())()  ::  True\n",
      ")()  ::  False\n",
      "(()())  ::  True\n"
     ]
    }
   ],
   "source": [
    "brackets = ['((()))', '(()())()', ')()', '(()())']\n",
    "for bkt in brackets:\n",
    "    print(bkt, ' :: ', is_balanced_parentheses(bkt))"
   ]
  },
  {
   "cell_type": "markdown",
   "metadata": {},
   "source": [
    "### Using a normal List"
   ]
  },
  {
   "cell_type": "code",
   "execution_count": 28,
   "metadata": {},
   "outputs": [],
   "source": [
    "def check_brackets(s):\n",
    "    lista = []\n",
    "    for i in s:\n",
    "        if i == '(':\n",
    "            lista.append(1)\n",
    "        elif i == ')' and len(lista) == 0:\n",
    "            return False\n",
    "        elif i == ')':\n",
    "            lista.pop()\n",
    "    if len(lista) == 0:\n",
    "        return True\n",
    "    return False"
   ]
  },
  {
   "cell_type": "code",
   "execution_count": 30,
   "metadata": {},
   "outputs": [
    {
     "name": "stdout",
     "output_type": "stream",
     "text": [
      "((()))  ::  True\n",
      "(()())()  ::  True\n",
      ")()  ::  False\n",
      "(()())  ::  True\n"
     ]
    }
   ],
   "source": [
    "for bkt in brackets:\n",
    "    print(bkt, ' :: ', check_brackets(bkt))"
   ]
  },
  {
   "cell_type": "markdown",
   "metadata": {},
   "source": [
    "### Having multiple brackets"
   ]
  },
  {
   "cell_type": "code",
   "execution_count": 2,
   "metadata": {},
   "outputs": [],
   "source": [
    "def isValid(s):\n",
    "    if len(s) < 2:\n",
    "        return False\n",
    "    lista = []\n",
    "    for i in s:\n",
    "        if i == '(':\n",
    "            lista.append(1)\n",
    "        elif i == '[':\n",
    "            lista.append(2)\n",
    "        elif i == '{':\n",
    "            lista.append(3)\n",
    "\n",
    "        elif i == ')':\n",
    "            if 1 not in lista:\n",
    "                return False\n",
    "            if lista.pop() != 1:\n",
    "                return False\n",
    "        \n",
    "        elif i == ']':\n",
    "            if 2 not in lista:\n",
    "                return False\n",
    "            if lista.pop() != 2:\n",
    "                return False\n",
    "        elif i == '}':\n",
    "            if 3 not in lista:\n",
    "                return False\n",
    "            if lista.pop() != 3:\n",
    "                return False\n",
    "    if len(lista) == 0:\n",
    "        return True\n",
    "    return False"
   ]
  },
  {
   "cell_type": "code",
   "execution_count": 4,
   "metadata": {},
   "outputs": [
    {
     "name": "stdout",
     "output_type": "stream",
     "text": [
      "((({})))  ::  True\n",
      "(()())[(])  ::  False\n",
      "[]  ::  True\n",
      "{)  ::  False\n",
      "((()())[])  ::  True\n"
     ]
    }
   ],
   "source": [
    "brackets = ['((({})))', '(()())[(])', '[]', '{)', '((()())[])']\n",
    "for bkt in brackets:\n",
    "    print(bkt, ' :: ', isValid(bkt))"
   ]
  },
  {
   "cell_type": "markdown",
   "metadata": {},
   "source": [
    "### Using a Stack to sort a list"
   ]
  },
  {
   "cell_type": "code",
   "execution_count": null,
   "metadata": {},
   "outputs": [],
   "source": [
    "my_stack = Stack()\n",
    "lista = [8,10,3,21,4,56,43,6]\n",
    "for i in lista:\n",
    "    my_stack.push(i)\n",
    "\n",
    "\n",
    "def sort_stack(unsorted_stack: Stack):\n",
    "    sorted_stack = Stack()\n",
    "    while unsorted_stack.is_empty()== False:\n",
    "        temp = unsorted_stack.pop() \n",
    "        while sorted_stack.is_empty() == False and sorted_stack.peek() > temp:\n",
    "            temp1 = sorted_stack.pop()\n",
    "            unsorted_stack.push(temp1)\n",
    "        sorted_stack.push(temp)\n",
    "    # sorted_stack.print_stack()\n",
    "    while sorted_stack.is_empty() == False:\n",
    "        temp1 = sorted_stack.pop()\n",
    "        unsorted_stack.push(temp1)\n",
    "\n",
    "sort_stack(my_stack)"
   ]
  }
 ],
 "metadata": {
  "kernelspec": {
   "display_name": "Python 3",
   "language": "python",
   "name": "python3"
  },
  "language_info": {
   "codemirror_mode": {
    "name": "ipython",
    "version": 3
   },
   "file_extension": ".py",
   "mimetype": "text/x-python",
   "name": "python",
   "nbconvert_exporter": "python",
   "pygments_lexer": "ipython3",
   "version": "3.9.6"
  }
 },
 "nbformat": 4,
 "nbformat_minor": 2
}
