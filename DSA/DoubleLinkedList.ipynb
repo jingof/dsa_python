{
 "cells": [
  {
   "cell_type": "code",
   "execution_count": null,
   "metadata": {},
   "outputs": [],
   "source": [
    "class Node:\n",
    "    def __init__(self, value):\n",
    "        self.value = value\n",
    "        self.next = None\n",
    "        self.prev = None"
   ]
  },
  {
   "cell_type": "code",
   "execution_count": null,
   "metadata": {},
   "outputs": [],
   "source": [
    "class DoublyLinkedList:\n",
    "    def __init__(self, value):\n",
    "        new_node = Node(value)\n",
    "        self.head = new_node\n",
    "        self.tail = new_node\n",
    "        self.length = 1\n",
    "    \n",
    "    def append(self, value):\n",
    "        new_node = Node(value)\n",
    "        curr=self.head\n",
    "        if not curr:\n",
    "            self.head = new_node\n",
    "            self.tail = new_node\n",
    "            self.length = 1\n",
    "            return\n",
    "        self.tail.next = new_node\n",
    "        new_node.prev = self.tail\n",
    "        self.tail = new_node\n",
    "        self.length += 1\n",
    "\n",
    "    def get(self, ind):\n",
    "        if ind >= self.length or ind < 0:\n",
    "            return\n",
    "        elif ind < self.length/2:\n",
    "            curr = self.head\n",
    "            for _ in range(ind):\n",
    "                curr = curr.next\n",
    "        else:\n",
    "            curr = self.tail\n",
    "            for _ in range(self.length-1, ind, -1):\n",
    "                curr = curr.prev\n",
    "        return curr\n",
    "\n",
    "    def set_value(self, ind, value):\n",
    "        node = self.get(ind)\n",
    "        if node:\n",
    "            node.value = value\n",
    "    \n",
    "    def prepend(self, value):\n",
    "        new_node = Node(value)\n",
    "        curr = self.head\n",
    "        if not curr:\n",
    "            self.tail = new_node\n",
    "        else:\n",
    "            new_node.next = curr\n",
    "            curr.prev = new_node\n",
    "        self.head = new_node\n",
    "        self.length += 1\n",
    "    \n",
    "    def insert(self, value, ind):\n",
    "        new_node = Node(value)\n",
    "        curr = self.head\n",
    "        if ind > self.length or ind < 0:\n",
    "            return\n",
    "        elif ind == 0:\n",
    "            self.prepend(value)\n",
    "        elif ind == self.length:\n",
    "            self.append(value)\n",
    "        else:\n",
    "            for _ in range(ind-1):\n",
    "                curr = curr.next\n",
    "            next = curr.next\n",
    "            next.prev = new_node\n",
    "            new_node.next = next\n",
    "            curr.next = new_node\n",
    "            new_node.prev = curr\n",
    "            self.length += 1\n",
    "        \n",
    "    def reverse(self):\n",
    "        prev = None\n",
    "        curr = self.head\n",
    "        self.tail = curr\n",
    "        while curr:\n",
    "            next = curr.next\n",
    "            curr.next = prev\n",
    "            curr.prev = next\n",
    "            prev = curr\n",
    "            curr = next\n",
    "        self.head = prev\n",
    "\n",
    "    def empty_list(self):\n",
    "        self.head   = None\n",
    "        self.length = 0\n",
    "        self.tail   = None\n",
    "\n",
    "    def pop(self):\n",
    "        curr = self.tail\n",
    "        if self.length <= 1:\n",
    "            self.empty_list()\n",
    "            return\n",
    "        prev = curr.prev\n",
    "        prev.next = None\n",
    "        curr.prev = None\n",
    "        self.tail = prev\n",
    "        self.length -= 1\n",
    "\n",
    "    def pop_first(self):\n",
    "        curr = self.head\n",
    "        if curr == None:\n",
    "            return\n",
    "        if self.length == 1:\n",
    "            self.empty_list()\n",
    "            return\n",
    "        next = curr.next\n",
    "        next.prev = None\n",
    "        curr.next = None\n",
    "        self.head = next\n",
    "        self.length -= 1\n",
    "\n",
    "    def remove(self, ind):\n",
    "        if ind < 0 or ind >= self.length:\n",
    "            return\n",
    "        if ind == 0:\n",
    "            self.pop_first()\n",
    "        elif ind+1 == self.length:\n",
    "            self.pop()\n",
    "        else:\n",
    "            curr = self.head \n",
    "            for _ in range(ind-1):\n",
    "                curr = curr.next\n",
    "            next = curr.next\n",
    "            prev = curr.prev\n",
    "            next.prev = prev\n",
    "            prev.next = next\n",
    "            curr.next = None\n",
    "            curr.prev = None\n",
    "            self.length -= 1\n",
    "        \n",
    "    def is_palindrome(self):\n",
    "        start = self.head\n",
    "        end   = self.tail\n",
    "        for i in range(self.length//2):\n",
    "            if start.value != end.value:\n",
    "                return False\n",
    "            start = start.next\n",
    "            end   = end.prev\n",
    "        return True\n",
    "    \n",
    "    def swap_nodes(self, A, B):\n",
    "        B.prev = A.prev\n",
    "        A.next = B.next\n",
    "        if B.prev:\n",
    "            B.prev.next = B\n",
    "        if A.next:\n",
    "            A.next.prev = A \n",
    "        A.prev = B\n",
    "        B.next = A\n",
    "        \n",
    "\n",
    "    def swap_pairs(self):\n",
    "        if self.length < 2:\n",
    "            return\n",
    "        curr = self.head\n",
    "        self.head = curr.next\n",
    "        self.swap_nodes(curr, curr.next) \n",
    "        for i in range(2, self.length, 2):\n",
    "            curr = self.get(i)\n",
    "            if curr and curr.next:\n",
    "                next = curr.next\n",
    "                self.swap_nodes(curr, next)\n",
    "\n",
    "    def print_list(self, print_tail=True):\n",
    "        curr = self.head\n",
    "        if not curr:\n",
    "            print(f\"List is empty\")\n",
    "            return\n",
    "        print(f\"The head is set to ({curr.value}).\", )\n",
    "        print(\"Head First: \", end = ' ')\n",
    "        while curr:\n",
    "            print(curr.value, end = ', ')\n",
    "            curr = curr.next\n",
    "        if print_tail:    \n",
    "            print(\"\\nTail First: \", end = ' ')\n",
    "            curr = self.tail\n",
    "            while curr:\n",
    "                print(curr.value, end = ', ')\n",
    "                curr = curr.prev\n",
    "            print(f\"\\nThe tail is set to ({self.tail.value}).\", end= '')\n",
    "        print(f\"\\nThe length is {self.length}.\\n\")\n",
    "    \n",
    "    def print_summary(self):\n",
    "        curr = self.head\n",
    "        if not curr:\n",
    "            return\n",
    "        while curr:\n",
    "            print(curr.value, end = ', ')\n",
    "            curr = curr.next\n",
    "        print()\n",
    "\n"
   ]
  },
  {
   "cell_type": "markdown",
   "metadata": {},
   "source": [
    "#### Initiate the DoubleLinkedList"
   ]
  },
  {
   "cell_type": "code",
   "execution_count": 39,
   "metadata": {},
   "outputs": [
    {
     "name": "stdout",
     "output_type": "stream",
     "text": [
      "The head is set to (10).\n",
      "Head First:  10, 3, 1, 6, 7, 2, 9, 11, \n",
      "Tail First:  11, 9, 2, 7, 6, 1, 3, 10, \n",
      "The tail is set to (11).\n",
      "The length is 8.\n",
      "\n"
     ]
    }
   ],
   "source": [
    "lista = [10, 3, 1, 6, 7, 2, 9, 11]\n",
    "DLL = DoublyLinkedList(lista[0])\n",
    "for i in lista[1:]:\n",
    "    DLL.append(i)\n",
    "DLL.print_list()"
   ]
  },
  {
   "cell_type": "markdown",
   "metadata": {},
   "source": [
    "#### Reverse the DoubleLinkedList"
   ]
  },
  {
   "cell_type": "code",
   "execution_count": 40,
   "metadata": {},
   "outputs": [
    {
     "name": "stdout",
     "output_type": "stream",
     "text": [
      "The head is set to (11).\n",
      "Head First:  11, 9, 2, 7, 6, 1, 3, 10, \n",
      "Tail First:  10, 3, 1, 6, 7, 2, 9, 11, \n",
      "The tail is set to (10).\n",
      "The length is 8.\n",
      "\n"
     ]
    }
   ],
   "source": [
    "DLL.reverse()\n",
    "DLL.print_list()"
   ]
  },
  {
   "cell_type": "markdown",
   "metadata": {},
   "source": [
    "#### Append to the DoubleLinkedList"
   ]
  },
  {
   "cell_type": "code",
   "execution_count": 41,
   "metadata": {},
   "outputs": [
    {
     "name": "stdout",
     "output_type": "stream",
     "text": [
      "The head is set to (4).\n",
      "Head First:  4, 11, 9, 8, 2, 7, 6, 1, 5, 3, 10, \n",
      "Tail First:  10, 3, 5, 1, 6, 7, 2, 8, 9, 11, 4, \n",
      "The tail is set to (10).\n",
      "The length is 11.\n",
      "\n"
     ]
    }
   ],
   "source": [
    "# last index\n",
    "DLL.insert(5,6)\n",
    "#first index\n",
    "DLL.insert(4,0)\n",
    "# any middle index\n",
    "DLL.insert(8,3)\n",
    "#impossible index\n",
    "DLL.insert(21,12)\n",
    "DLL.print_list()"
   ]
  },
  {
   "cell_type": "markdown",
   "metadata": {},
   "source": [
    "#### Remove from the DoubleLinkedList"
   ]
  },
  {
   "cell_type": "code",
   "execution_count": 42,
   "metadata": {},
   "outputs": [
    {
     "name": "stdout",
     "output_type": "stream",
     "text": [
      "The head is set to (11).\n",
      "Head First:  11, 9, 8, 2, 7, 1, 5, 3, \n",
      "Tail First:  3, 5, 1, 7, 2, 8, 9, 11, \n",
      "The tail is set to (3).\n",
      "The length is 8.\n",
      "\n"
     ]
    }
   ],
   "source": [
    "# remove first\n",
    "DLL.remove(0)\n",
    "# remove last\n",
    "DLL.remove(9)\n",
    "# remove any inside index\n",
    "DLL.remove(6)\n",
    "# remove at impossible index\n",
    "DLL.remove(13)\n",
    "DLL.print_list()"
   ]
  },
  {
   "cell_type": "markdown",
   "metadata": {},
   "source": [
    "#### Swap pairs in the DoubleLinkedList"
   ]
  },
  {
   "cell_type": "code",
   "execution_count": 43,
   "metadata": {},
   "outputs": [
    {
     "name": "stdout",
     "output_type": "stream",
     "text": [
      "The head is set to (9).\n",
      "Head First:  9, 11, 2, 8, 1, 7, 3, 5, \n",
      "The length is 8.\n",
      "\n"
     ]
    }
   ],
   "source": [
    "DLL.swap_pairs()\n",
    "DLL.print_list(False)"
   ]
  },
  {
   "cell_type": "markdown",
   "metadata": {},
   "source": [
    "#### Check if DoubleLinkedList is palindrome"
   ]
  },
  {
   "cell_type": "code",
   "execution_count": null,
   "metadata": {},
   "outputs": [
    {
     "name": "stdout",
     "output_type": "stream",
     "text": [
      "0, 1, 3, 3, 1, 0, \n",
      "DLL is palindrome: True\n",
      "0, 1, 3, 6, 3, 1, 0, \n",
      "DLL is palindrome: True\n",
      "1, 3, 6, 3, 1, 0, \n",
      "DLL is palindrome: False\n"
     ]
    }
   ],
   "source": [
    "lista = [0,1,3,3,1,0]\n",
    "DLL = DoublyLinkedList(lista[0])\n",
    "for i in lista[1:]:\n",
    "    DLL.append(i)\n",
    "DLL.print_summary()\n",
    "print(f\"DLL is palindrome: {DLL.is_palindrome()}\")\n",
    "DLL.insert(6, 3)\n",
    "DLL.print_summary()\n",
    "print(f\"DLL is palindrome: {DLL.is_palindrome()}\")\n",
    "DLL.pop_first()\n",
    "DLL.print_summary()\n",
    "print(f\"DLL is palindrome: {DLL.is_palindrome()}\")"
   ]
  }
 ],
 "metadata": {
  "kernelspec": {
   "display_name": "Python 3",
   "language": "python",
   "name": "python3"
  },
  "language_info": {
   "codemirror_mode": {
    "name": "ipython",
    "version": 3
   },
   "file_extension": ".py",
   "mimetype": "text/x-python",
   "name": "python",
   "nbconvert_exporter": "python",
   "pygments_lexer": "ipython3",
   "version": "3.9.6"
  }
 },
 "nbformat": 4,
 "nbformat_minor": 2
}
