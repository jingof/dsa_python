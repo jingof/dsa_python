{
 "cells": [
  {
   "cell_type": "markdown",
   "metadata": {},
   "source": [
    "## Queue\n",
    "#### Last In, Last Out\n",
    "#### First In, First out"
   ]
  },
  {
   "cell_type": "code",
   "execution_count": 2,
   "metadata": {},
   "outputs": [],
   "source": [
    "class Node:\n",
    "    def __init__(self, value):\n",
    "        self.value = value\n",
    "        self.next = None"
   ]
  },
  {
   "cell_type": "code",
   "execution_count": 35,
   "metadata": {},
   "outputs": [],
   "source": [
    "class Queue:\n",
    "    def __init__(self, value):\n",
    "        new_node = Node(value)\n",
    "        self.first = new_node\n",
    "        self.last = new_node\n",
    "        self.length = 1\n",
    "    \n",
    "    def enqueue(self, value):\n",
    "        new_node = Node(value)\n",
    "        if not self.first:\n",
    "            self.first = new_node\n",
    "            self.last = new_node\n",
    "        else:\n",
    "            self.last.next = new_node\n",
    "            self.last = new_node\n",
    "        self.length += 1\n",
    "    \n",
    "    def dequeue(self):\n",
    "        if self.length <= 0:\n",
    "            return\n",
    "        first = self.first\n",
    "        if self.length == 1:\n",
    "            self.first = None\n",
    "            self.last  = None\n",
    "        else:\n",
    "            self.first = first.next\n",
    "            first.next = None\n",
    "        self.length -= 1\n",
    "        return first\n",
    "    \n",
    "    def print_queue(self):\n",
    "        curr = self.first\n",
    "        if not curr:\n",
    "            print(\"Queue is empty\")\n",
    "            return\n",
    "        while curr:\n",
    "            print(curr.value, end = ' ')\n",
    "            curr = curr.next\n",
    "        print()\n",
    "    \n",
    " \n"
   ]
  },
  {
   "cell_type": "code",
   "execution_count": 38,
   "metadata": {},
   "outputs": [
    {
     "name": "stdout",
     "output_type": "stream",
     "text": [
      "4 10 1 3 6 7 2 9 21 \n",
      "1 3 6 7 2 9 21 \n"
     ]
    }
   ],
   "source": [
    "lista = [4, 10, 1, 3, 6, 7, 2, 9, 21]\n",
    "queue = Queue(lista[0])\n",
    "for i in lista[1:]:\n",
    "    queue.enqueue(i)\n",
    "queue.print_queue()\n",
    "queue.dequeue()\n",
    "queue.dequeue()\n",
    "queue.print_queue()"
   ]
  },
  {
   "cell_type": "code",
   "execution_count": null,
   "metadata": {},
   "outputs": [],
   "source": [
    "lis"
   ]
  }
 ],
 "metadata": {
  "kernelspec": {
   "display_name": "Python 3",
   "language": "python",
   "name": "python3"
  },
  "language_info": {
   "codemirror_mode": {
    "name": "ipython",
    "version": 3
   },
   "file_extension": ".py",
   "mimetype": "text/x-python",
   "name": "python",
   "nbconvert_exporter": "python",
   "pygments_lexer": "ipython3",
   "version": "3.9.6"
  }
 },
 "nbformat": 4,
 "nbformat_minor": 2
}
