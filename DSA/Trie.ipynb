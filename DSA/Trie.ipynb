{
 "cells": [
  {
   "cell_type": "code",
   "execution_count": 1,
   "metadata": {},
   "outputs": [],
   "source": [
    "class Node:\n",
    "    def __init__(self, c):\n",
    "        self.c = c\n",
    "        self.children = [None] * 26\n",
    "        self.isWord = False\n",
    "    "
   ]
  },
  {
   "cell_type": "code",
   "execution_count": 154,
   "metadata": {},
   "outputs": [],
   "source": [
    "class Trie:\n",
    "    def __init__(self):\n",
    "        self.head = Node('\\0')\n",
    "        self.words = 0\n",
    "\n",
    "    def addWord(self, word):\n",
    "        curr = self.head\n",
    "        for c in word.lower():\n",
    "            ind = ord(c) - 97\n",
    "            if curr.children[ind] == None:\n",
    "                curr.children[ind] = Node(c)\n",
    "            curr = curr.children[ind]\n",
    "        if curr.isWord == False:\n",
    "            curr.isWord = True\n",
    "            self.words += 1\n",
    "\n",
    "    def printWords(self):\n",
    "        self.printWord('',self.head)\n",
    "\n",
    "    def printWord(self, word, node):\n",
    "        if node.isWord:\n",
    "            print(word)\n",
    "        for i in range(26):\n",
    "            if node.children[i]:\n",
    "                self.printWord(word+node.children[i].c, node.children[i])\n",
    "    \n",
    "    def search(self, word: str) -> bool:\n",
    "        try:\n",
    "            self.res = False\n",
    "            self.searchWord('', self.head, word)\n",
    "            if  self.res:\n",
    "                return True\n",
    "            return False\n",
    "        except:\n",
    "            return False\n",
    "    \n",
    "    def searchWord(self, word, node, wordToSearch):\n",
    "        self.global_ += 1\n",
    "        if node.isWord and word == wordToSearch.lower():\n",
    "                self.res = True\n",
    "        for i in range(26):\n",
    "            if node.children[i]:\n",
    "                self.searchWord(word+node.children[i].c, node.children[i], wordToSearch)\n",
    "        \n",
    "\n",
    "    def startsWith(self, prefix: str) -> bool:\n",
    "        self.res = False\n",
    "        self.wordStartsWith('', self.head, prefix)\n",
    "        return self.res\n",
    "    \n",
    "    def wordStartsWith(self, word, node, prefix):\n",
    "        if word == prefix.lower():\n",
    "            self.res = True\n",
    "            return\n",
    "        for i in range(26):\n",
    "            if node.children[i]:\n",
    "                self.wordStartsWith(word+node.children[i].c, node.children[i], prefix)\n",
    "        \n",
    "            "
   ]
  },
  {
   "cell_type": "code",
   "execution_count": 155,
   "metadata": {},
   "outputs": [],
   "source": [
    "trie = Trie()\n",
    "words = ['jack','jackal','jill','jimmy','jaack','jilaen','alyvia','aidan','abigail','angelica','alina','ade','jingo','joseph','matthew','richard','angelo','sheba', 'jill']\n",
    "for word in words:\n",
    "    trie.addWord(word)\n",
    "\n",
    "\n",
    "# trie.printWords()"
   ]
  },
  {
   "cell_type": "code",
   "execution_count": 156,
   "metadata": {},
   "outputs": [
    {
     "data": {
      "text/plain": [
       "False"
      ]
     },
     "execution_count": 156,
     "metadata": {},
     "output_type": "execute_result"
    }
   ],
   "source": [
    "trie.search('jackal')"
   ]
  },
  {
   "cell_type": "code",
   "execution_count": 157,
   "metadata": {},
   "outputs": [
    {
     "data": {
      "text/plain": [
       "True"
      ]
     },
     "execution_count": 157,
     "metadata": {},
     "output_type": "execute_result"
    }
   ],
   "source": [
    "trie.startsWith('jaa')"
   ]
  },
  {
   "cell_type": "code",
   "execution_count": 158,
   "metadata": {},
   "outputs": [
    {
     "data": {
      "text/plain": [
       "18"
      ]
     },
     "execution_count": 158,
     "metadata": {},
     "output_type": "execute_result"
    }
   ],
   "source": [
    "trie.words"
   ]
  }
 ],
 "metadata": {
  "kernelspec": {
   "display_name": "Python 3",
   "language": "python",
   "name": "python3"
  },
  "language_info": {
   "codemirror_mode": {
    "name": "ipython",
    "version": 3
   },
   "file_extension": ".py",
   "mimetype": "text/x-python",
   "name": "python",
   "nbconvert_exporter": "python",
   "pygments_lexer": "ipython3",
   "version": "3.9.6"
  }
 },
 "nbformat": 4,
 "nbformat_minor": 2
}
