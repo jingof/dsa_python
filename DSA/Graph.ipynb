{
 "cells": [
  {
   "cell_type": "code",
   "execution_count": 19,
   "metadata": {},
   "outputs": [],
   "source": [
    "class Graph:\n",
    "    def __init__(self):\n",
    "        self.adj_list = {}\n",
    "    \n",
    "    def print_graph(self):\n",
    "        for vertex in self.adj_list:\n",
    "            print(vertex, ':', self.adj_list[vertex])\n",
    "    \n",
    "    def add_vertex(self, vertex):\n",
    "        if vertex not in self.adj_list.keys():\n",
    "            self.adj_list[vertex] = []\n",
    "            return True\n",
    "        return False\n",
    "\n",
    "    def add_edge(self, v1, v2):\n",
    "        if set([v1, v2]).issubset(self.adj_list.keys()):\n",
    "            self.adj_list[v1].append(v2)\n",
    "            self.adj_list[v2].append(v1)\n",
    "            return True\n",
    "        return False\n",
    "    \n",
    "    def remove_vertex(self, v1):\n",
    "        if v1 in self.adj_list.keys():\n",
    "            for other_vertex in self.adj_list[v1]:\n",
    "                self.adj_list[other_vertex].remove(v1)\n",
    "            del self.adj_list[v1]\n",
    "            return True\n",
    "        return False\n",
    "\n",
    "    def remove_edge(self, v1, v2):\n",
    "        if set([v1, v2]).issubset(self.adj_list.keys()):\n",
    "            try:\n",
    "                self.adj_list[v1].remove(v2)\n",
    "                self.adj_list[v2].remove(v1)\n",
    "            except ValueError:\n",
    "                pass\n",
    "            return True\n",
    "        return False\n",
    "\n",
    "\n"
   ]
  },
  {
   "cell_type": "code",
   "execution_count": 23,
   "metadata": {},
   "outputs": [
    {
     "name": "stdout",
     "output_type": "stream",
     "text": [
      "A : ['B', 'C', 'D']\n",
      "B : ['A', 'D']\n",
      "C : ['A', 'D']\n",
      "D : ['A', 'B', 'C']\n",
      "\n",
      "A : ['B', 'C']\n",
      "B : ['A']\n",
      "C : ['A']\n"
     ]
    }
   ],
   "source": [
    "my_graph = Graph()\n",
    "my_graph.add_vertex('A')\n",
    "my_graph.add_vertex('B')\n",
    "my_graph.add_vertex('C')\n",
    "my_graph.add_vertex('D')\n",
    "\n",
    "my_graph.add_edge('A','B')\n",
    "my_graph.add_edge('A','C')\n",
    "my_graph.add_edge('A','D')\n",
    "my_graph.add_edge('B','D')\n",
    "my_graph.add_edge('C','D')\n",
    "\n",
    "\n",
    "my_graph.print_graph()\n",
    "print()\n",
    "my_graph.remove_vertex('D')\n",
    "my_graph.print_graph()"
   ]
  },
  {
   "cell_type": "code",
   "execution_count": null,
   "metadata": {},
   "outputs": [],
   "source": []
  }
 ],
 "metadata": {
  "kernelspec": {
   "display_name": "Python 3",
   "language": "python",
   "name": "python3"
  },
  "language_info": {
   "codemirror_mode": {
    "name": "ipython",
    "version": 3
   },
   "file_extension": ".py",
   "mimetype": "text/x-python",
   "name": "python",
   "nbconvert_exporter": "python",
   "pygments_lexer": "ipython3",
   "version": "3.9.6"
  }
 },
 "nbformat": 4,
 "nbformat_minor": 2
}
