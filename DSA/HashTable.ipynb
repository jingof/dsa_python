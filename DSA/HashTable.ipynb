{
 "cells": [
  {
   "cell_type": "code",
   "execution_count": 16,
   "metadata": {},
   "outputs": [],
   "source": [
    "class HashTable:\n",
    "    def __init__(self, size = 7):\n",
    "        self.data_map = [None] * size\n",
    "    \n",
    "    def __hash(self, key):\n",
    "        my_hash = 0\n",
    "        for letter in key:\n",
    "            my_hash = (my_hash + ord(letter) * 23) % len(self.data_map)\n",
    "        return my_hash\n",
    "    \n",
    "    def set_item(self, key, value):\n",
    "        index = self.__hash(key)\n",
    "        if self.data_map[index] == None:\n",
    "            self.data_map[index] = []\n",
    "        self.data_map[index].append([key, value])\n",
    "\n",
    "    def get_item(self, key):\n",
    "        index = self.__hash(key)\n",
    "        if self.data_map[index] == None:\n",
    "            return None\n",
    "        for i in self.data_map[index]:\n",
    "            if i[0] == key:\n",
    "                return i[1]\n",
    "        return None\n",
    "\n",
    "    def keys(self):\n",
    "        all_keys = []\n",
    "        for index in range(len(self.data_map)):\n",
    "            if self.data_map[index] != None:\n",
    "                all_keys.extend([i[0] for i in self.data_map[index]])\n",
    "        return all_keys\n",
    "\n",
    "\n",
    "\n",
    "    def print_table(self):\n",
    "        for i, val in enumerate(self.data_map):\n",
    "            print(i , \":\", val)"
   ]
  },
  {
   "cell_type": "code",
   "execution_count": 17,
   "metadata": {},
   "outputs": [
    {
     "name": "stdout",
     "output_type": "stream",
     "text": [
      "0 : None\n",
      "1 : None\n",
      "2 : None\n",
      "3 : None\n",
      "4 : [['bolts', 1400], ['washers', 50]]\n",
      "5 : None\n",
      "6 : [['lumber', 1200]]\n"
     ]
    },
    {
     "data": {
      "text/plain": [
       "['bolts', 'washers', 'lumber']"
      ]
     },
     "execution_count": 17,
     "metadata": {},
     "output_type": "execute_result"
    }
   ],
   "source": [
    "my_hash_table = HashTable()\n",
    "my_hash_table.set_item('bolts', 1400)\n",
    "my_hash_table.set_item('washers', 50)\n",
    "my_hash_table.set_item('lumber', 1200)\n",
    "my_hash_table.print_table()\n",
    "my_hash_table.get_item('lumber')\n",
    "my_hash_table.keys()"
   ]
  },
  {
   "cell_type": "code",
   "execution_count": 9,
   "metadata": {},
   "outputs": [
    {
     "data": {
      "text/plain": [
       "[['eat', 'ate', 'tea'], ['nat', 'tan'], ['bat'], ['ill', 'duh']]"
      ]
     },
     "execution_count": 9,
     "metadata": {},
     "output_type": "execute_result"
    }
   ],
   "source": [
    "def group_anagrams(strings):\n",
    "    data_map = {}\n",
    "    for string in strings:\n",
    "        val = sum([ord(i) for i in string])\n",
    "        if val not in data_map:\n",
    "            data_map[val] = []\n",
    "        data_map[val].append(string)\n",
    "    all_anagrams = []\n",
    "    for key in data_map:\n",
    "        all_anagrams.append(data_map.get(key))\n",
    "    return all_anagrams\n",
    "\n",
    "strings_ = ['eat', 'nat', 'ate', 'tea', 'tan', 'bat', 'ill', 'duh']\n",
    "group_anagrams(strings_)"
   ]
  },
  {
   "cell_type": "code",
   "execution_count": 67,
   "metadata": {},
   "outputs": [
    {
     "name": "stdout",
     "output_type": "stream",
     "text": [
      "41\n",
      "[['ray'], ['cod'], ['abe'], ['ned', 'den'], ['arc'], ['jar'], ['owl'], ['pop'], ['paw'], ['sky'], ['yup', 'yup'], ['fed'], ['jul'], ['woo'], ['ado'], ['why'], ['ben'], ['mys'], ['dem'], ['fat'], ['you'], ['eon'], ['sui'], ['oct'], ['asp'], ['ago'], ['lea'], ['sow'], ['hus'], ['fee'], ['eve'], ['red'], ['flo'], ['ids'], ['tic'], ['pup'], ['hag'], ['ito'], ['zoo']]\n"
     ]
    }
   ],
   "source": [
    "def group_anagrams1(strs):\n",
    "        def check_items(str1, str2):\n",
    "            if len(str1) != len(str2):\n",
    "                return False\n",
    "            s1 = sorted(str1)\n",
    "            s2 = sorted(str2)\n",
    "            for i in range(len(s1)):\n",
    "                if s1[i] != s2[i]:\n",
    "                    return False\n",
    "            return True\n",
    "        \n",
    "        def get_matching_ind(data_map, string):\n",
    "            for val in data_map.keys():\n",
    "                s = data_map.get(val)[0]\n",
    "                if check_items(s, string):\n",
    "                    return val\n",
    "            return None\n",
    "        \n",
    "        def get_free_ind(data_map, strs):\n",
    "            for i in range(len(strs)):\n",
    "                if i not in data_map.keys():\n",
    "                    return i\n",
    "\n",
    "        data_map = {}\n",
    "        for string in strs:\n",
    "            val = sum([ord(i) for i in string])\n",
    "            if val not in data_map:\n",
    "                data_map[val] = []\n",
    "                data_map[val].append(string)\n",
    "            elif check_items(string, data_map[val][0]):\n",
    "                data_map[val].append(string)\n",
    "            else:\n",
    "                val = get_matching_ind(data_map, string)\n",
    "                if val == None:\n",
    "                    val = get_free_ind(data_map, strs)\n",
    "                    data_map[val] = []\n",
    "                data_map[val].append(string)\n",
    "            \n",
    "        all_anagrams = []\n",
    "        for key in data_map:\n",
    "            all_anagrams.append(data_map.get(key))\n",
    "        return all_anagrams\n",
    "strings_ = [\"ray\",\"cod\",\"abe\",\"ned\",\"arc\",\"jar\",\"owl\",\"pop\",\"paw\",\"sky\",\"yup\",\"fed\",\"jul\",\"woo\",\"ado\",\"why\",\"ben\",\"mys\",\"den\",\"dem\",\"fat\",\"you\",\"eon\",\"sui\",\"oct\",\"asp\",\"ago\",\"lea\",\"sow\",\"hus\",\"fee\",\"yup\",\"eve\",\"red\",\"flo\",\"ids\",\"tic\",\"pup\",\"hag\",\"ito\",\"zoo\"]\n",
    "print(len(strings_))\n",
    "print(group_anagrams1(strings_))"
   ]
  },
  {
   "cell_type": "code",
   "execution_count": 76,
   "metadata": {},
   "outputs": [
    {
     "name": "stdout",
     "output_type": "stream",
     "text": [
      "['abe', 'ado', 'ago', 'arc', 'asp', 'ben', 'cod', 'dem', 'den', 'eon', 'eve', 'fat', 'fed', 'fee', 'flo', 'hag', 'hus', 'ids', 'ito', 'jar', 'jul', 'lea', 'mys', 'ned', 'oct', 'owl', 'paw', 'pop', 'pup', 'ray', 'red', 'sky', 'sow', 'sui', 'tic', 'why', 'woo', 'you', 'yup', 'yup', 'zoo']\n",
      "['abe', 'ado', 'ago', 'arc', 'asp', 'ben', 'cod', 'dem', 'den', 'eon', 'eve', 'fat', 'fed', 'fee', 'flo', 'hag', 'hus', 'ids', 'ito', 'jar', 'jul', 'lea', 'mys', 'ned', 'oct', 'owl', 'paw', 'pop', 'pup', 'ray', 'red', 'sky', 'sow', 'sui', 'tic', 'why', 'woo', 'you', 'yup', 'yup', 'zoo']\n",
      "[]\n"
     ]
    }
   ],
   "source": [
    "str1 = [['ray'],['ito'],['cod'],['arc'],['dem'],['abe'],['ned','den'],['ago'],['jar'],['owl'],['pop'],['paw'],['sky'],['yup','yup'],['fed'],['jul'],['woo'],['pup'],['ado'],['why'],['zoo'],['ben'],['mys'],['sow'],['fat'],['red'],['you'],['eon'],['sui'],['oct'],['asp'],['lea'],['hus'],['fee'],['hag'],['eve'],['ids'],['tic'],['flo']]\n",
    "str2 = [[\"zoo\"],[\"hag\"],[\"pup\"],[\"ids\"],[\"tic\"],[\"flo\"],[\"yup\",\"yup\"],[\"red\"],[\"fee\"],[\"hus\"],[\"fed\"],[\"sky\"],[\"ben\"],[\"pop\"],[\"you\"],[\"abe\"],[\"den\",\"ned\"],[\"cod\"],[\"jul\"],[\"jar\"],[\"ray\"],[\"paw\"],[\"owl\"],[\"oct\"],[\"woo\"],[\"ado\"],[\"dem\"],[\"eve\"],[\"why\"],[\"sui\"],[\"ito\"],[\"ago\"],[\"arc\"],[\"mys\"],[\"fat\"],[\"eon\"],[\"asp\"],[\"lea\"],[\"sow\"]]\n",
    "str1 = [a for i in str1 for a in i]\n",
    "str2 = [a for i in str2 for a in i]\n",
    "print(sorted(str1))\n",
    "print(sorted(str2))\n",
    "print([i for i in str2 if i not in str1])\n",
    "\n",
    "# print(set([i[0] for i in str1])- set([i[0] for i in str2]))\n",
    "\n",
    "\n"
   ]
  },
  {
   "cell_type": "code",
   "execution_count": 77,
   "metadata": {},
   "outputs": [
    {
     "name": "stdout",
     "output_type": "stream",
     "text": [
      "6\n",
      "3\n",
      "[['eat', 'tea', 'ate'], ['tan', 'nat'], ['bat']]\n"
     ]
    }
   ],
   "source": [
    "def group_anagrams(strings):\n",
    "        def get_ord_hash(string):\n",
    "            val = 0\n",
    "            for i in string:\n",
    "                val += ord(i)\n",
    "            return val\n",
    "        \n",
    "        def check_items(str1, str2):\n",
    "            if len(str1) != len(str2):\n",
    "                return False\n",
    "            s1 = sorted(str1)\n",
    "            s2 = sorted(str2)\n",
    "            for i in range(len(s1)):\n",
    "                if s1[i] != s2[i]:\n",
    "                    return False\n",
    "            return True\n",
    "        def insert_string_item(lists, string):\n",
    "            for i in range(len(lists)):\n",
    "                list_item = lists[i]\n",
    "                if check_items(list_item[0], string):\n",
    "                    lists[i].append(string)\n",
    "                    return lists\n",
    "            lists.append([string])\n",
    "            return lists\n",
    "        \n",
    "        data_map = {}\n",
    "        for string in strings:\n",
    "            hash_ = get_ord_hash(string)\n",
    "            if hash_ not in data_map.keys():\n",
    "                data_map[hash_] = []\n",
    "                data_map[hash_].append([string])\n",
    "            else:\n",
    "                data_map[hash_] = insert_string_item(data_map[hash_], string)\n",
    "        \n",
    "        all_anagrams = []\n",
    "        for key in data_map:\n",
    "            all_anagrams.extend(data_map.get(key))\n",
    "        return all_anagrams\n",
    "    \n",
    "strings_ = [\"eat\",\"tea\",\"tan\",\"ate\",\"nat\",\"bat\"]\n",
    "print(len(strings_))\n",
    "res = group_anagrams(strings_)\n",
    "print(len(res))\n",
    "print(res)\n"
   ]
  },
  {
   "cell_type": "code",
   "execution_count": 82,
   "metadata": {},
   "outputs": [
    {
     "data": {
      "text/plain": [
       "100"
      ]
     },
     "execution_count": 82,
     "metadata": {},
     "output_type": "execute_result"
    }
   ],
   "source": [
    "10**(2)"
   ]
  },
  {
   "cell_type": "code",
   "execution_count": null,
   "metadata": {},
   "outputs": [],
   "source": []
  }
 ],
 "metadata": {
  "kernelspec": {
   "display_name": "Python 3",
   "language": "python",
   "name": "python3"
  },
  "language_info": {
   "codemirror_mode": {
    "name": "ipython",
    "version": 3
   },
   "file_extension": ".py",
   "mimetype": "text/x-python",
   "name": "python",
   "nbconvert_exporter": "python",
   "pygments_lexer": "ipython3",
   "version": "3.9.6"
  }
 },
 "nbformat": 4,
 "nbformat_minor": 2
}
