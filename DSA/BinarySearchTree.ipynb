{
 "cells": [
  {
   "cell_type": "code",
   "execution_count": null,
   "metadata": {
    "cellUniqueIdByVincent": "809cb"
   },
   "outputs": [],
   "source": [
    "class Node:\n",
    "    def __init__(self, value):\n",
    "        self.value = value\n",
    "        self.left  = None\n",
    "        self.right = None\n",
    "\n",
    "class BinarySearchTree:\n",
    "    def __init__(self):\n",
    "        self.root = None\n",
    "    \n",
    "    def insert(self, value):\n",
    "        new_node = Node(value)\n",
    "        if not self.root:\n",
    "            self.root = new_node\n",
    "            return True\n",
    "        curr = self.root \n",
    "        while curr:\n",
    "            if value == curr.value:\n",
    "                return False\n",
    "            elif value < curr.value:\n",
    "                if curr.left:\n",
    "                    curr = curr.left\n",
    "                else:\n",
    "                    curr.left = new_node\n",
    "                    return True\n",
    "            else:\n",
    "                if curr.right:\n",
    "                    curr = curr.right\n",
    "                else:\n",
    "                    curr.right = new_node\n",
    "                    return True\n",
    "    \n",
    "    def contains(self, value):\n",
    "        curr = self.root\n",
    "        if value == None:\n",
    "            return False\n",
    "        while curr:\n",
    "            if value == curr.value:\n",
    "                return True\n",
    "            elif value < curr.value:\n",
    "                curr = curr.left\n",
    "            else:\n",
    "                curr = curr.right\n",
    "        return False\n",
    "        \n",
    "    def print_tree(self):\n",
    "        print(\"In-order: \", end = '')\n",
    "        self.print_inorder(self.root)\n",
    "        print()\n",
    "        print(\"Pre-order: \", end = '')\n",
    "        self.print_preorder(self.root)\n",
    "        print()\n",
    "        print(\"Post-order: \", end = '')\n",
    "        self.print_postorder(self.root)\n",
    "        print()\n",
    "\n",
    "    def print_inorder(self, node):\n",
    "        if node.left:\n",
    "            self.print_inorder(node.left)\n",
    "        print(node.value, end = ' ')\n",
    "        if node.right:\n",
    "            self.print_inorder(node.right)\n",
    "\n",
    "    def print_preorder(self, node):\n",
    "        print(node.value, end = ' ')\n",
    "        if node.left:\n",
    "            self.print_preorder(node.left)\n",
    "        if node.right:\n",
    "            self.print_preorder(node.right)\n",
    "        \n",
    "    \n",
    "    def print_postorder(self, node):\n",
    "        if node.left:\n",
    "            self.print_postorder(node.left)\n",
    "        if node.right:\n",
    "            self.print_postorder(node.right)\n",
    "        print(node.value, end = ' ')\n",
    "\n",
    "    def __r_contains(self, curr_node, value):\n",
    "        if curr_node == None or curr_node.value==None:\n",
    "            return False\n",
    "        elif curr_node.value == value:\n",
    "            return True\n",
    "        elif value < curr_node.value:\n",
    "            return self.__r_contains(curr_node.left, value)\n",
    "        elif value > curr_node.value:\n",
    "            return self.__r_contains(curr_node.right, value)\n",
    "\n",
    "    def r_contains(self, value):\n",
    "        if value == None:\n",
    "            return False\n",
    "        return self.__r_contains(self.root, value)\n",
    "    \n",
    "    def BFS(self):\n",
    "        current_node = self.root\n",
    "        queue = []\n",
    "        results = []\n",
    "        queue.append(current_node)\n",
    "        while len(queue) > 0:\n",
    "            current_node = queue.pop(0)\n",
    "            results.append(current_node.value)\n",
    "            if current_node.left is not None:\n",
    "                queue.append(current_node.left)\n",
    "            if current_node.right is not None:\n",
    "                queue.append(current_node.right)\n",
    "        return results\n",
    "\n",
    "    def kth_smallest(self, k):\n",
    "        results = []\n",
    "        def traverse(current_node):\n",
    "            if current_node.left:\n",
    "                traverse(current_node.left)\n",
    "            results.append(current_node.value)\n",
    "            if current_node.right:\n",
    "                traverse(current_node.right)\n",
    "        if self.root is None:\n",
    "            return\n",
    "        traverse(self.root)\n",
    "        if k >= 1 and k <= len(results):\n",
    "            return results[k-1]\n",
    "\n",
    "\n",
    "        \n",
    "    "
   ]
  },
  {
   "cell_type": "code",
   "execution_count": 53,
   "metadata": {
    "cellUniqueIdByVincent": "a009e"
   },
   "outputs": [
    {
     "name": "stdout",
     "output_type": "stream",
     "text": [
      "In-order: 3 4 6 8 10 21 43 56 \n",
      "Pre-order: 8 3 4 6 10 21 56 43 \n",
      "Post-order: 6 4 3 43 56 21 10 8 \n",
      "[8, 3, 10, 4, 21, 6, 56, 43]\n",
      "3\n"
     ]
    }
   ],
   "source": [
    "lista = [8,10,3,21,4,56,43,6]\n",
    "\n",
    "BST = BinarySearchTree()\n",
    "for i in lista:\n",
    "    BST.insert(i)\n",
    "\n",
    "BST.print_tree()\n",
    "print(BST.BFS())\n",
    "print(BST.kth_smallest(1))"
   ]
  },
  {
   "cell_type": "code",
   "execution_count": 28,
   "metadata": {
    "cellUniqueIdByVincent": "860d5"
   },
   "outputs": [
    {
     "name": "stdout",
     "output_type": "stream",
     "text": [
      "In-order: 18 21 27 47 52 76 82 \n",
      "Pre-order: 47 21 18 27 76 52 82 \n",
      "Post-order: 18 27 21 52 82 76 47 "
     ]
    },
    {
     "data": {
      "text/plain": [
       "[47, 21, 76, 18, 27, 52, 82]"
      ]
     },
     "execution_count": 28,
     "metadata": {},
     "output_type": "execute_result"
    }
   ],
   "source": [
    "lista = [47,21,76,18,27,52,82]\n",
    "\n",
    "BST = BinarySearchTree()\n",
    "for i in lista:\n",
    "    BST.insert(i)\n",
    "BST.print_tree()\n",
    "BST.BFS()"
   ]
  },
  {
   "cell_type": "code",
   "execution_count": 13,
   "metadata": {
    "cellUniqueIdByVincent": "f9ff7"
   },
   "outputs": [
    {
     "name": "stdout",
     "output_type": "stream",
     "text": [
      "False False\n",
      "False False\n",
      "True True\n",
      "False False\n",
      "True True\n"
     ]
    }
   ],
   "source": [
    "# BST = BinarySearchTree()\n",
    "print(BST.contains(12), BST.r_contains(12))\n",
    "print(BST.contains(None), BST.r_contains(None))\n",
    "print(BST.contains(8), BST.r_contains(8))\n",
    "print(BST.contains(22), BST.r_contains(22))\n",
    "print(BST.contains(43), BST.r_contains(43))"
   ]
  },
  {
   "cell_type": "code",
   "execution_count": 14,
   "metadata": {
    "cellUniqueIdByVincent": "e8f02"
   },
   "outputs": [
    {
     "name": "stdout",
     "output_type": "stream",
     "text": [
      "False False\n",
      "False False\n",
      "False False\n",
      "False False\n",
      "False False\n"
     ]
    }
   ],
   "source": [
    "BST = BinarySearchTree()\n",
    "print(BST.contains(12), BST.r_contains(12))\n",
    "print(BST.contains(None), BST.r_contains(None))\n",
    "print(BST.contains(8), BST.r_contains(8))\n",
    "print(BST.contains(22), BST.r_contains(22))\n",
    "print(BST.contains(43), BST.r_contains(43))"
   ]
  },
  {
   "cell_type": "code",
   "execution_count": 33,
   "metadata": {
    "cellUniqueIdByVincent": "17969"
   },
   "outputs": [
    {
     "name": "stdout",
     "output_type": "stream",
     "text": [
      "False\n"
     ]
    },
    {
     "data": {
      "text/plain": [
       "[1, 4, 7, 8, 9]"
      ]
     },
     "execution_count": 33,
     "metadata": {},
     "output_type": "execute_result"
    }
   ],
   "source": [
    "a = [1,9,7,4,8]\n",
    "if a == sorted(a):\n",
    "    print(a)\n",
    "else:\n",
    "    print('False')\n",
    "\n",
    "sorted(a)"
   ]
  },
  {
   "cell_type": "code",
   "execution_count": null,
   "metadata": {
    "cellUniqueIdByVincent": "88ace"
   },
   "outputs": [],
   "source": []
  }
 ],
 "metadata": {
  "kernelspec": {
   "display_name": "Python 3",
   "language": "python",
   "name": "python3"
  },
  "language_info": {
   "name": "python",
   "version": "3.9.6"
  },
  "vincent": {
   "sessionId": "0a560690b35a78880734e8b3_2025-05-29T22-33-25-721Z"
  }
 },
 "nbformat": 4,
 "nbformat_minor": 2
}
