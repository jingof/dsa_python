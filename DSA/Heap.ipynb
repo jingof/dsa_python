{
 "cells": [
  {
   "cell_type": "code",
   "execution_count": 11,
   "metadata": {},
   "outputs": [],
   "source": [
    "class MaxHeap:\n",
    "    def __init__(self):\n",
    "        self.heap = []\n",
    "\n",
    "    def _left_child(self, index):\n",
    "        return 2 * index + 1\n",
    "    \n",
    "    def _right_child(self, index):\n",
    "        return 2 * index + 2\n",
    "    \n",
    "    def _parent(self, index):\n",
    "        return (index - 1) // 2\n",
    "    \n",
    "    def _swap(self, index1, index2):\n",
    "        self.heap[index1], self.heap[index2] = self.heap[index2], self.heap[index1]\n",
    "    \n",
    "    def insert(self, value):\n",
    "        self.heap.append(value)\n",
    "        current = len(self.heap) - 1\n",
    "\n",
    "        while current > 0 and self.heap[current] > self.heap[self._parent(current)]:\n",
    "            self._swap(current, self._parent(current))\n",
    "            current = self._parent(current)\n",
    "    \n",
    "    def remove(self):\n",
    "        if len(self.heap) == 0:\n",
    "            return None\n",
    "        if len(self.heap) == 1:\n",
    "            return self.heap.pop()\n",
    "        \n",
    "        max_value = self.heap[0]\n",
    "        self.heap[0] = self.heap.pop()\n",
    "        self._sink_down(0)\n",
    "        return max_value\n",
    "    \n",
    "    def _sink_down(self, index):\n",
    "        max_index = index\n",
    "        while True:\n",
    "            left_index = self._left_child(index)\n",
    "            right_index = self._right_child(index)\n",
    "\n",
    "            if left_index < len(self.heap) and self.heap[left_index] > self.heap[max_index]:\n",
    "                max_index = left_index\n",
    "            \n",
    "            if right_index < len(self.heap) and self.heap[right_index] > self.heap[max_index]:\n",
    "                max_index = right_index\n",
    "            \n",
    "            if max_index != index:\n",
    "                self._swap(index, max_index)\n",
    "                index = max_index \n",
    "            else:\n",
    "                return\n",
    "\n",
    "\n",
    "\n",
    "\n",
    "\n",
    "\n",
    "\n",
    "\n",
    "\n"
   ]
  },
  {
   "cell_type": "code",
   "execution_count": 17,
   "metadata": {},
   "outputs": [
    {
     "name": "stdout",
     "output_type": "stream",
     "text": [
      "[99, 61, 72, 58]\n",
      "[99, 75, 72, 58, 61]\n",
      "[100, 75, 99, 58, 61, 72]\n",
      "Remove\n",
      "[99, 75, 72, 58, 61]\n",
      "[75, 61, 72, 58]\n"
     ]
    }
   ],
   "source": [
    "myheap = MaxHeap()\n",
    "myheap.insert(72)\n",
    "myheap.insert(58)\n",
    "myheap.insert(99)\n",
    "myheap.insert(61)\n",
    "print(myheap.heap)\n",
    "\n",
    "myheap.insert(75)\n",
    "print(myheap.heap)\n",
    "\n",
    "myheap.insert(100)\n",
    "print(myheap.heap)\n",
    "print(\"Remove\")\n",
    "myheap.remove()\n",
    "print(myheap.heap)\n",
    "\n",
    "myheap.remove()\n",
    "print(myheap.heap)\n",
    "\n",
    "\n"
   ]
  },
  {
   "cell_type": "code",
   "execution_count": 34,
   "metadata": {},
   "outputs": [
    {
     "name": "stdout",
     "output_type": "stream",
     "text": [
      "[6, 5, 4, 5, 2, 3, 3, 1, 2]\n",
      "[5, 5, 4, 2, 2, 3, 3, 1]\n",
      "[5, 2, 4, 1, 2, 3, 3]\n"
     ]
    },
    {
     "data": {
      "text/plain": [
       "5"
      ]
     },
     "execution_count": 34,
     "metadata": {},
     "output_type": "execute_result"
    }
   ],
   "source": [
    "def find_kth_smallest(nums, k):\n",
    "    my_heap = MaxHeap()\n",
    "    for num in nums:\n",
    "        my_heap.insert(num)\n",
    "    i = 0\n",
    "    print(my_heap.heap)\n",
    "    while  len(my_heap.heap) != k:\n",
    "        my_heap.remove()\n",
    "        i += 1\n",
    "        print(my_heap.heap)\n",
    "    \n",
    "    return my_heap.heap[0]\n",
    "\n",
    "find_kth_smallest([3, 2, 3, 1, 2, 4, 5, 5, 6], 7)"
   ]
  },
  {
   "cell_type": "code",
   "execution_count": 60,
   "metadata": {},
   "outputs": [
    {
     "name": "stdout",
     "output_type": "stream",
     "text": [
      "-2 [-1] -1\n",
      "-3 [-1, -1] -1\n",
      "-4 [-1, -1, -1] -1\n",
      "-5 [-1, -1, -1, -1] -1\n"
     ]
    },
    {
     "data": {
      "text/plain": [
       "[-1, -1, -1, -1, -1]"
      ]
     },
     "execution_count": 60,
     "metadata": {},
     "output_type": "execute_result"
    }
   ],
   "source": [
    "def stream_max(nums):\n",
    "    if nums == []:\n",
    "        return []\n",
    "    stream = [nums[0]]\n",
    "    for i in range(1, len(nums)):\n",
    "        num = nums[i]\n",
    "        print(num, stream, stream[-1])\n",
    "        if num > stream[-1]:\n",
    "            stream.append(num)\n",
    "        else:\n",
    "            stream.append(stream[-1])\n",
    "    return stream\n",
    "\n",
    "stream_max([-1, -2, -3, -4, -5])\n",
    "        \n"
   ]
  },
  {
   "cell_type": "code",
   "execution_count": 84,
   "metadata": {},
   "outputs": [
    {
     "data": {
      "text/plain": [
       "24"
      ]
     },
     "execution_count": 84,
     "metadata": {},
     "output_type": "execute_result"
    }
   ],
   "source": [
    "def factorial(n):\n",
    "    if n == 1:\n",
    "        return 1\n",
    "    return n * factorial(n-1)\n",
    "\n",
    "factorial(4)"
   ]
  },
  {
   "cell_type": "code",
   "execution_count": null,
   "metadata": {},
   "outputs": [
    {
     "data": {
      "text/plain": [
       "144"
      ]
     },
     "execution_count": 93,
     "metadata": {},
     "output_type": "execute_result"
    }
   ],
   "source": [
    "def fibonacci(n):\n",
    "    a, b = 0, 1\n",
    "    for _ in range(n):\n",
    "        a, b = b, a + b\n",
    "    return a\n",
    "fibonacci(100)"
   ]
  },
  {
   "cell_type": "code",
   "execution_count": null,
   "metadata": {},
   "outputs": [],
   "source": [
    "def fibonacci(n):\n",
    "    if n == 1:\n",
    "        return 1\n",
    "    elif n < 1:\n",
    "        return 0 \n",
    "    return fibonacci(n-1) + fibonacci(n-2)\n",
    "fibonacci(100)\n"
   ]
  },
  {
   "cell_type": "code",
   "execution_count": null,
   "metadata": {},
   "outputs": [],
   "source": []
  }
 ],
 "metadata": {
  "kernelspec": {
   "display_name": "Python 3",
   "language": "python",
   "name": "python3"
  },
  "language_info": {
   "codemirror_mode": {
    "name": "ipython",
    "version": 3
   },
   "file_extension": ".py",
   "mimetype": "text/x-python",
   "name": "python",
   "nbconvert_exporter": "python",
   "pygments_lexer": "ipython3",
   "version": "3.9.6"
  }
 },
 "nbformat": 4,
 "nbformat_minor": 2
}
