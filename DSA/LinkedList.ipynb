{
 "cells": [
  {
   "cell_type": "code",
   "execution_count": 2,
   "metadata": {},
   "outputs": [],
   "source": [
    "class Node:\n",
    "    def __init__(self, value):\n",
    "        self.value = value\n",
    "        self.next = None"
   ]
  },
  {
   "cell_type": "code",
   "execution_count": 3,
   "metadata": {},
   "outputs": [],
   "source": [
    "class LinkedList:\n",
    "    def __init__(self, value):\n",
    "        new_node = Node(value)\n",
    "        self.head = new_node\n",
    "        self.tail = new_node\n",
    "        self.length = 1\n",
    "    \n",
    "    def append(self, value):\n",
    "        new_node = Node(value)\n",
    "        curr = self.head\n",
    "        if not curr:\n",
    "            self.head = new_node\n",
    "            self.tail = new_node\n",
    "            self.length = 1\n",
    "            return\n",
    "        while curr.next:\n",
    "            curr = curr.next\n",
    "        curr.next = new_node\n",
    "        self.tail = new_node\n",
    "        self.length += 1\n",
    "\n",
    "    def get(self, ind):\n",
    "        if ind >= self.length or ind < 0:\n",
    "            return\n",
    "        curr = self.head\n",
    "        for _ in range(ind):\n",
    "            curr = curr.next  \n",
    "    \n",
    "    def set_value(self, ind, value):\n",
    "        node = self.get(ind)\n",
    "        if node:\n",
    "            node.value = value\n",
    "\n",
    "    def prepend(self, value):\n",
    "        new_node = Node(value)\n",
    "        curr = self.head\n",
    "        new_node.next = curr\n",
    "        self.head = new_node\n",
    "        self.length += 1\n",
    "\n",
    "    def insert(self, value, ind):\n",
    "        if ind > self.length:\n",
    "            return\n",
    "        elif ind == 0:\n",
    "            self.prepend(value)\n",
    "        elif ind+1 == self.length:\n",
    "            self.append(value)\n",
    "        else:\n",
    "            new_node = Node(value)\n",
    "            curr = self.head\n",
    "            for _ in range(ind-1):\n",
    "                curr = curr.next\n",
    "            next = curr.next\n",
    "            new_node.next = next\n",
    "            curr.next = new_node\n",
    "            self.length += 1\n",
    "\n",
    "    def reverse(self):\n",
    "        prev = None\n",
    "        curr = self.head\n",
    "        self.tail = curr\n",
    "        while curr:\n",
    "            next = curr.next\n",
    "            curr.next = prev\n",
    "            prev = curr\n",
    "            curr = next\n",
    "        self.head = prev\n",
    "\n",
    "    def empty_list(self):\n",
    "        curr = self.head\n",
    "        self.head = None\n",
    "        self.tail = None\n",
    "        self.length = 0\n",
    "        return curr\n",
    "\n",
    "\n",
    "    def pop(self):\n",
    "        curr = self.head\n",
    "        if self.length <= 1:\n",
    "            return self.empty_list()\n",
    "        while curr.next != self.tail:\n",
    "            curr = curr.next\n",
    "        curr.next = None\n",
    "        self.tail = curr\n",
    "        self.length -= 1\n",
    "        return curr\n",
    "\n",
    "    def pop_first(self):\n",
    "        if self.length <= 1:\n",
    "            return self.empty_list()\n",
    "        curr = self.head\n",
    "        self.head = curr.next\n",
    "        curr.next = None\n",
    "        self.length -=1   \n",
    "        return curr   \n",
    "\n",
    "\n",
    "    def remove(self, ind):\n",
    "        if ind >= self.length:\n",
    "            return\n",
    "        elif self.length <= 1:\n",
    "            return self.empty_list()   \n",
    "        elif ind == 0:\n",
    "            return self.pop_first()     \n",
    "        elif ind+1 == self.length:\n",
    "            return self.pop()\n",
    "        curr = self.head\n",
    "        for _ in range(ind-1):\n",
    "            curr = curr.next\n",
    "        next = curr.next\n",
    "        curr.next = next.next\n",
    "        next.next = None\n",
    "        self.length -= 1\n",
    "        return curr\n",
    "    \n",
    "    def print_list(self):\n",
    "        curr = self.head\n",
    "        print(f\"The head is set to ({curr.value}).\", )\n",
    "        while curr:\n",
    "            print(curr.value, end = ', ')\n",
    "            curr = curr.next\n",
    "        print(f\"\\nThe tail is set to ({self.tail.value}).\")\n",
    "        print(f\"The length is {self.length}.\\n\")"
   ]
  },
  {
   "cell_type": "markdown",
   "metadata": {},
   "source": [
    "#### Initiate the LinkedList"
   ]
  },
  {
   "cell_type": "code",
   "execution_count": 4,
   "metadata": {},
   "outputs": [
    {
     "name": "stdout",
     "output_type": "stream",
     "text": [
      "The head is set to (10).\n",
      "10, 3, 6, 7, 9, 11, \n",
      "The tail is set to (11).\n",
      "The length is 6.\n",
      "\n"
     ]
    }
   ],
   "source": [
    "lista = [10, 3, 6, 7, 9, 11]\n",
    "LL = LinkedList(lista[0])\n",
    "for i in lista[1:]:\n",
    "    LL.append(i)\n",
    "LL.print_list()"
   ]
  },
  {
   "cell_type": "markdown",
   "metadata": {},
   "source": [
    "#### Reverse the LinkedList"
   ]
  },
  {
   "cell_type": "code",
   "execution_count": 5,
   "metadata": {},
   "outputs": [
    {
     "name": "stdout",
     "output_type": "stream",
     "text": [
      "The head is set to (11).\n",
      "11, 9, 7, 6, 3, 10, \n",
      "The tail is set to (10).\n",
      "The length is 6.\n",
      "\n"
     ]
    }
   ],
   "source": [
    "LL.reverse()\n",
    "LL.print_list()"
   ]
  },
  {
   "cell_type": "markdown",
   "metadata": {},
   "source": [
    "#### Append to the LinkedList"
   ]
  },
  {
   "cell_type": "code",
   "execution_count": 6,
   "metadata": {},
   "outputs": [
    {
     "name": "stdout",
     "output_type": "stream",
     "text": [
      "The head is set to (4).\n",
      "4, 11, 9, 8, 7, 6, 3, 10, 5, \n",
      "The tail is set to (10).\n",
      "The length is 9.\n",
      "\n"
     ]
    }
   ],
   "source": [
    "# last index\n",
    "LL.insert(5,6)\n",
    "#first index\n",
    "LL.insert(4,0)\n",
    "# middle index\n",
    "LL.insert(8,3)\n",
    "#impossinble index\n",
    "LL.insert(8,12)\n",
    "LL.print_list()"
   ]
  },
  {
   "cell_type": "markdown",
   "metadata": {},
   "source": [
    "#### Remove from the LinkedList"
   ]
  },
  {
   "cell_type": "code",
   "execution_count": 7,
   "metadata": {},
   "outputs": [
    {
     "name": "stdout",
     "output_type": "stream",
     "text": [
      "The head is set to (4).\n",
      "4, 11, 9, 8, 7, 3, 10, 5, \n",
      "The tail is set to (10).\n",
      "The length is 8.\n",
      "\n"
     ]
    }
   ],
   "source": [
    "LL.remove(5)\n",
    "LL.print_list()"
   ]
  }
 ],
 "metadata": {
  "kernelspec": {
   "display_name": "Python 3",
   "language": "python",
   "name": "python3"
  },
  "language_info": {
   "codemirror_mode": {
    "name": "ipython",
    "version": 3
   },
   "file_extension": ".py",
   "mimetype": "text/x-python",
   "name": "python",
   "nbconvert_exporter": "python",
   "pygments_lexer": "ipython3",
   "version": "3.9.6"
  }
 },
 "nbformat": 4,
 "nbformat_minor": 2
}
