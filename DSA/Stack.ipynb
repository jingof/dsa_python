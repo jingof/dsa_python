{
 "cells": [
  {
   "cell_type": "markdown",
   "metadata": {},
   "source": [
    "## Stack\n",
    "#### First In, Last Out\n",
    "#### Last In, First out"
   ]
  },
  {
   "cell_type": "code",
   "execution_count": 3,
   "metadata": {},
   "outputs": [],
   "source": [
    "class Node:\n",
    "    def __init__(self, value):\n",
    "        self.value = value\n",
    "        self.next = None"
   ]
  },
  {
   "cell_type": "code",
   "execution_count": null,
   "metadata": {},
   "outputs": [],
   "source": [
    "class Stack:\n",
    "    def __init__(self, value):\n",
    "        new_node = Node(value)\n",
    "        self.top = new_node\n",
    "        self.height = 1\n",
    "    \n",
    "    def push(self, value):\n",
    "        new_node = Node(value)\n",
    "        if self.height >= 0:\n",
    "            new_node.next = self.top\n",
    "        self.top = new_node\n",
    "        self.height += 1\n",
    "    \n",
    "    def pop(self):\n",
    "        if self.height <= 0:\n",
    "            return\n",
    "        top = self.top\n",
    "        self.top = top.next\n",
    "        top.next = None\n",
    "        self.height -= 1\n",
    "        return top\n",
    "    \n",
    "    def print_stack(self):\n",
    "        curr = self.top\n",
    "        if not curr:\n",
    "            print(\"Stack is empty\")\n",
    "            return\n",
    "        while curr:\n",
    "            print(curr.value, end = ' ')\n",
    "            curr = curr.next\n",
    "    \n",
    " \n"
   ]
  },
  {
   "cell_type": "code",
   "execution_count": null,
   "metadata": {},
   "outputs": [
    {
     "name": "stdout",
     "output_type": "stream",
     "text": [
      "11\n",
      "9 2 7 6 3 1 10 4 "
     ]
    }
   ],
   "source": [
    "lista = [4, 10, 1, 3, 6, 7, 2, 9, 11]\n",
    "STK = Stack(lista[0])\n",
    "for i in lista[1:]:\n",
    "    STK.push(i)\n",
    "STK.pop()\n",
    "STK.print_stack()"
   ]
  },
  {
   "cell_type": "code",
   "execution_count": null,
   "metadata": {},
   "outputs": [],
   "source": []
  }
 ],
 "metadata": {
  "kernelspec": {
   "display_name": "Python 3",
   "language": "python",
   "name": "python3"
  },
  "language_info": {
   "codemirror_mode": {
    "name": "ipython",
    "version": 3
   },
   "file_extension": ".py",
   "mimetype": "text/x-python",
   "name": "python",
   "nbconvert_exporter": "python",
   "pygments_lexer": "ipython3",
   "version": "3.9.6"
  }
 },
 "nbformat": 4,
 "nbformat_minor": 2
}
